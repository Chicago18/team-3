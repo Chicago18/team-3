{
 "cells": [
  {
   "cell_type": "code",
   "execution_count": 9,
   "metadata": {},
   "outputs": [
    {
     "ename": "FileNotFoundError",
     "evalue": "[Errno 2] No such file or directory: 'example.pdf'",
     "output_type": "error",
     "traceback": [
      "\u001b[0;31m---------------------------------------------------------------------------\u001b[0m",
      "\u001b[0;31mFileNotFoundError\u001b[0m                         Traceback (most recent call last)",
      "\u001b[0;32m<ipython-input-9-6af4f04c0387>\u001b[0m in \u001b[0;36m<module>\u001b[0;34m()\u001b[0m\n\u001b[1;32m     58\u001b[0m \u001b[0;32mif\u001b[0m \u001b[0m__name__\u001b[0m \u001b[0;34m==\u001b[0m \u001b[0;34m\"__main__\"\u001b[0m\u001b[0;34m:\u001b[0m\u001b[0;34m\u001b[0m\u001b[0m\n\u001b[1;32m     59\u001b[0m         \u001b[0;31m# calling the main function\u001b[0m\u001b[0;34m\u001b[0m\u001b[0;34m\u001b[0m\u001b[0m\n\u001b[0;32m---> 60\u001b[0;31m         \u001b[0mmain\u001b[0m\u001b[0;34m(\u001b[0m\u001b[0;34m)\u001b[0m\u001b[0;34m\u001b[0m\u001b[0m\n\u001b[0m",
      "\u001b[0;32m<ipython-input-9-6af4f04c0387>\u001b[0m in \u001b[0;36mmain\u001b[0;34m()\u001b[0m\n\u001b[1;32m     29\u001b[0m \u001b[0;34m\u001b[0m\u001b[0m\n\u001b[1;32m     30\u001b[0m         \u001b[0;31m# creating pdf File object of original pdf\u001b[0m\u001b[0;34m\u001b[0m\u001b[0;34m\u001b[0m\u001b[0m\n\u001b[0;32m---> 31\u001b[0;31m         \u001b[0mpdfFileObj\u001b[0m \u001b[0;34m=\u001b[0m \u001b[0mopen\u001b[0m\u001b[0;34m(\u001b[0m\u001b[0morigFileName\u001b[0m\u001b[0;34m,\u001b[0m \u001b[0;34m'rb'\u001b[0m\u001b[0;34m)\u001b[0m\u001b[0;34m\u001b[0m\u001b[0m\n\u001b[0m\u001b[1;32m     32\u001b[0m \u001b[0;34m\u001b[0m\u001b[0m\n\u001b[1;32m     33\u001b[0m         \u001b[0;31m# creating a pdf Reader object\u001b[0m\u001b[0;34m\u001b[0m\u001b[0;34m\u001b[0m\u001b[0m\n",
      "\u001b[0;31mFileNotFoundError\u001b[0m: [Errno 2] No such file or directory: 'example.pdf'"
     ]
    }
   ],
   "source": [
    "# importing the required modules \n",
    "import PyPDF2 \n",
    "\n",
    "def add_watermark(wmFile, pageObj): \n",
    "\t#opening watermark pdf file \n",
    "\twmFileObj = open(wmFile, 'rb') \n",
    "\t\n",
    "\t# creating pdf reader object of watermark pdf file \n",
    "\tpdfReader = PyPDF2.PdfFileReader(wmFileObj) \n",
    "\t\n",
    "\t# merging watermark pdf's first page with passed page object. \n",
    "\tpageObj.mergePage(pdfReader.getPage(0)) \n",
    "\t\n",
    "\t# closing the watermark pdf file object \n",
    "\twmFileObj.close() \n",
    "\t\n",
    "\t# returning watermarked page object \n",
    "\treturn pageObj \n",
    "\n",
    "def main(): \n",
    "\t# watermark pdf file name \n",
    "\tmywatermark = 'watermark.pdf'\n",
    "\t\n",
    "\t# original pdf file name \n",
    "\torigFileName = 'example.pdf'\n",
    "\t\n",
    "\t# new pdf file name \n",
    "\tnewFileName = 'watermarked_example.pdf'\n",
    "\t\n",
    "\t# creating pdf File object of original pdf \n",
    "\tpdfFileObj = open(origFileName, 'rb') \n",
    "\t\n",
    "\t# creating a pdf Reader object \n",
    "\tpdfReader = PyPDF2.PdfFileReader(pdfFileObj) \n",
    "\n",
    "\t# creating a pdf writer object for new pdf \n",
    "\tpdfWriter = PyPDF2.PdfFileWriter() \n",
    "\t\n",
    "\t# adding watermark to each page \n",
    "\tfor page in range(pdfReader.numPages): \n",
    "\t\t# creating watermarked page object \n",
    "\t\twmpageObj = add_watermark(mywatermark, pdfReader.getPage(page)) \n",
    "\t\t\n",
    "\t\t# adding watermarked page object to pdf writer \n",
    "\t\tpdfWriter.addPage(wmpageObj) \n",
    "\n",
    "\t# new pdf file object \n",
    "\tnewFile = open(newFileName, 'wb') \n",
    "\t\n",
    "\t# writing watermarked pages to new file \n",
    "\tpdfWriter.write(newFile) \n",
    "\n",
    "\t# closing the original pdf file object \n",
    "\tpdfFileObj.close() \n",
    "\t# closing the new pdf file object \n",
    "\tnewFile.close() \n",
    "\n",
    "if __name__ == \"__main__\": \n",
    "\t# calling the main function \n",
    "\tmain() \n"
   ]
  },
  {
   "cell_type": "code",
   "execution_count": null,
   "metadata": {},
   "outputs": [],
   "source": [
    "\n",
    "\n"
   ]
  },
  {
   "cell_type": "code",
   "execution_count": 18,
   "metadata": {},
   "outputs": [
    {
     "ename": "FileNotFoundError",
     "evalue": "[Errno 2] No such file or directory: 'original.pdf'",
     "output_type": "error",
     "traceback": [
      "\u001b[0;31m---------------------------------------------------------------------------\u001b[0m",
      "\u001b[0;31mFileNotFoundError\u001b[0m                         Traceback (most recent call last)",
      "\u001b[0;32m<ipython-input-18-66f282523922>\u001b[0m in \u001b[0;36m<module>\u001b[0;34m()\u001b[0m\n\u001b[1;32m     14\u001b[0m \u001b[0mnew_pdf\u001b[0m \u001b[0;34m=\u001b[0m \u001b[0mPdfFileReader\u001b[0m\u001b[0;34m(\u001b[0m\u001b[0mpacket\u001b[0m\u001b[0;34m)\u001b[0m\u001b[0;34m\u001b[0m\u001b[0m\n\u001b[1;32m     15\u001b[0m \u001b[0;31m# read your existing PDF\u001b[0m\u001b[0;34m\u001b[0m\u001b[0;34m\u001b[0m\u001b[0m\n\u001b[0;32m---> 16\u001b[0;31m \u001b[0mexisting_pdf\u001b[0m \u001b[0;34m=\u001b[0m \u001b[0mPdfFileReader\u001b[0m\u001b[0;34m(\u001b[0m\u001b[0mopen\u001b[0m\u001b[0;34m(\u001b[0m\u001b[0;34m\"original.pdf\"\u001b[0m\u001b[0;34m,\u001b[0m \u001b[0;34m\"rb\"\u001b[0m\u001b[0;34m)\u001b[0m\u001b[0;34m)\u001b[0m\u001b[0;34m\u001b[0m\u001b[0m\n\u001b[0m\u001b[1;32m     17\u001b[0m \u001b[0moutput\u001b[0m \u001b[0;34m=\u001b[0m \u001b[0mPdfFileWriter\u001b[0m\u001b[0;34m(\u001b[0m\u001b[0;34m)\u001b[0m\u001b[0;34m\u001b[0m\u001b[0m\n\u001b[1;32m     18\u001b[0m \u001b[0;31m# add the \"watermark\" (which is the new pdf) on the existing page\u001b[0m\u001b[0;34m\u001b[0m\u001b[0;34m\u001b[0m\u001b[0m\n",
      "\u001b[0;31mFileNotFoundError\u001b[0m: [Errno 2] No such file or directory: 'original.pdf'"
     ]
    }
   ],
   "source": [
    "from PyPDF2 import PdfFileWriter, PdfFileReader\n",
    "import io\n",
    "from reportlab.pdfgen import canvas\n",
    "from reportlab.lib.pagesizes import letter\n",
    "\n",
    "packet = io.BytesIO()\n",
    "# create a new PDF with Reportlab\n",
    "can = canvas.Canvas(packet, pagesize=letter)\n",
    "can.drawString(10, 100, \"Hello world\")\n",
    "can.save()\n",
    "\n",
    "#move to the beginning of the StringIO buffer\n",
    "packet.seek(0)\n",
    "new_pdf = PdfFileReader(packet)\n",
    "# read your existing PDF\n",
    "existing_pdf = PdfFileReader(open(\"original.pdf\", \"rb\"))\n",
    "output = PdfFileWriter()\n",
    "# add the \"watermark\" (which is the new pdf) on the existing page\n",
    "page = existing_pdf.getPage(0)\n",
    "page.mergePage(new_pdf.getPage(0))\n",
    "output.addPage(page)\n",
    "# finally, write \"output\" to a real file\n",
    "outputStream = open(\"destination.pdf\", \"wb\")\n",
    "output.write(outputStream)\n",
    "outputStream.close()"
   ]
  },
  {
   "cell_type": "code",
   "execution_count": null,
   "metadata": {
    "collapsed": true
   },
   "outputs": [],
   "source": []
  }
 ],
 "metadata": {
  "kernelspec": {
   "display_name": "Python 3",
   "language": "python",
   "name": "python3"
  }
 },
 "nbformat": 4,
 "nbformat_minor": 1
}
